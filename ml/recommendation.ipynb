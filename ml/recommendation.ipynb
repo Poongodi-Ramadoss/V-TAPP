{
 "cells": [
  {
   "cell_type": "code",
   "execution_count": None,
   "id": "af1c6f44-c0f4-4bcf-b8ba-5e2544d8fe5f",
   "metadata": {},
   "outputs": [],
   "source": [
    "!pip list"
   ]
  },
  {
   "cell_type": "code",
   "execution_count": None,
   "id": "7020c321-c4be-4e76-be9c-d323399defcb",
   "metadata": {},
   "outputs": [],
   "source": [
    "import numpy\n",
    "import pandas as pd\n",
    "import matplotlib.pyplot as plt\n",
    "import scipy\n",
    "import surprise\n",
    "import sklearn"
   ]
  },
  {
   "cell_type": "code",
   "execution_count": None,
   "id": "4a4a803e-e7b6-4890-8ac0-73c609a65014",
   "metadata": {},
   "outputs": [],
   "source": [
    "# wishlist_data = {\n",
    "#     'wishlist_id': list(range(1, 41)),  # Expanded to 40 entries\n",
    "#     'user_id': [\n",
    "#         101, 101, 101, 102, 102, 102, 103, 103, 103, 104, 104, 104,\n",
    "#         105, 105, 105, 106, 106, 106, 107, 107, 107, 108, 108, 108,\n",
    "#         109, 109, 109, 110, 110, 110, 111, 111, 111, 112, 112, 112,\n",
    "#         113, 113, 113, 114\n",
    "#     ],  # Each user has multiple wishlist items\n",
    "#     'book_id': [\n",
    "#         201, 202, 203, 202, 203, 204, 203, 204, 205, 204, 205, 206,\n",
    "#         205, 206, 207, 206, 207, 208, 207, 208, 209, 208, 209, 210,\n",
    "#         209, 210, 211, 210, 211, 212, 211, 212, 213, 212, 213, 214,\n",
    "#         213, 214, 215, 215\n",
    "#     ],\n",
    "#     'radius': [\n",
    "#         5.0, 7.0, 15.0, 10.0, 12.0, 20.0, 15.0, 17.0, 25.0, 7.0, 12.0, 20.0,\n",
    "#         14.0, 18.0, 22.0, 11.0, 15.0, 24.0, 6.0, 10.0, 19.0, 8.0, 14.0, 21.0,\n",
    "#         13.0, 17.0, 23.0, 9.0, 15.0, 20.0, 12.0, 18.0, 24.0, 16.0, 20.0, 25.0,\n",
    "#         14.0, 19.0, 23.0, 21.0\n",
    "#     ]\n",
    "# }\n"
   ]
  },
  {
   "cell_type": "code",
   "execution_count": None,
   "id": "89fe5646-29af-44fd-b143-df5494fb6787",
   "metadata": {},
   "outputs": [],
   "source": [
    "# ratings_data = {\n",
    "#     'ratings_id': list(range(1, 21)),\n",
    "#     'user_id': [101, 102, 103, 104, 105, 106, 107, 108, 109, 110, 111, 112, 113, 114, 115, 116, 117, 118, 119, 120],\n",
    "#     'book_id': [201, 202, 203, 204, 205, 206, 207, 208, 209, 210, 211, 212, 213, 214, 215, 216, 217, 218, 219, 220],\n",
    "#     'rating': [4, 5, 3, 4, 2, 5, 3, 4, 1, 5, 2, 3, 4, 5, 1, 2, 4, 3, 5, 2]\n",
    "# }"
   ]
  },
  {
   "cell_type": "code",
   "execution_count": None,
   "id": "7a67c794-19b9-4495-b50b-d36c275aebe5",
   "metadata": {},
   "outputs": [],
   "source": [
    "# books_data = {\n",
    "#     'book_id': list(range(201, 221)),\n",
    "#     'title': [\n",
    "#         'To Kill a Mockingbird', '1984', 'The Great Gatsby', 'The Catcher in the Rye', 'The Hobbit',\n",
    "#         'Fahrenheit 451', 'Brave New World', 'Moby-Dick', 'War and Peace', 'Pride and Prejudice',\n",
    "#         'The Lord of the Rings', 'Jane Eyre', 'The Diary of a Young Girl', 'Crime and Punishment', 'Wuthering Heights',\n",
    "#         'The Grapes of Wrath', 'Catch-22', 'The Odyssey', 'Little Women', 'The Picture of Dorian Gray'\n",
    "#     ],\n",
    "#     'authors': [\n",
    "#         'Harper Lee', 'George Orwell', 'F. Scott Fitzgerald', 'J.D. Salinger', 'J.R.R. Tolkien',\n",
    "#         'Ray Bradbury', 'Aldous Huxley', 'Herman Melville', 'Leo Tolstoy', 'Jane Austen',\n",
    "#         'J.R.R. Tolkien', 'Charlotte Brontë', 'Anne Frank', 'Fyodor Dostoevsky', 'Emily Brontë',\n",
    "#         'John Steinbeck', 'Joseph Heller', 'Homer', 'Louisa May Alcott', 'Oscar Wilde'\n",
    "#     ],\n",
    "#     'categories': [\n",
    "#         'Fiction', 'Dystopian', 'Classic', 'Classic', 'Fantasy',\n",
    "#         'Dystopian', 'Dystopian', 'Classic', 'Historical', 'Classic',\n",
    "#         'Fantasy', 'Classic', 'Autobiography', 'Classic', 'Classic',\n",
    "#         'Classic', 'Satire', 'Epic', 'Classic', 'Classic'\n",
    "#     ],\n",
    "#     'lang': ['English'] * 20,\n",
    "#     'isbn': [\n",
    "#         '9780061120084', '9780451524935', '9780743273565', '9780316769488', '9780345339683',\n",
    "#         '9781451673319', '9780060850524', '9781503280786', '9781400079988', '9780141439518',\n",
    "#         '9780618640157', '9780142437209', '9780553296983', '9780140449136', '9781853262959',\n",
    "#         '9780143039433', '9780684833392', '9780140268867', '9780316055437', '9780141439556'\n",
    "#     ],\n",
    "#     'image': [\n",
    "#         'image1.jpg', 'image2.jpg', 'image3.jpg', 'image4.jpg', 'image5.jpg',\n",
    "#         'image6.jpg', 'image7.jpg', 'image8.jpg', 'image9.jpg', 'image10.jpg',\n",
    "#         'image11.jpg', 'image12.jpg', 'image13.jpg', 'image14.jpg', 'image15.jpg',\n",
    "#         'image16.jpg', 'image17.jpg', 'image18.jpg', 'image19.jpg', 'image20.jpg'\n",
    "#     ]\n",
    "# }"
   ]
  },
  {
   "cell_type": "code",
   "execution_count": None,
   "id": "45dc4db0-7d5e-4695-88d3-7f53c16c4e54",
   "metadata": {},
   "outputs": [],
   "source": [
    "# users_data = {\n",
    "#     'user_id': list(range(101, 121)),\n",
    "#     'email': [\n",
    "#         'user1@example.com', 'user2@example.com', 'user3@example.com', 'user4@example.com', 'user5@example.com',\n",
    "#         'user6@example.com', 'user7@example.com', 'user8@example.com', 'user9@example.com', 'user10@example.com',\n",
    "#         'user11@example.com', 'user12@example.com', 'user13@example.com', 'user14@example.com', 'user15@example.com',\n",
    "#         'user16@example.com', 'user17@example.com', 'user18@example.com', 'user19@example.com', 'user20@example.com'\n",
    "#     ],\n",
    "#     'first_name': [\n",
    "#         'John', 'Jane', 'Jim', 'Jack', 'Jill',\n",
    "#         'Joe', 'Jenny', 'Jacob', 'Jasmine', 'James',\n",
    "#         'Julia', 'Jordan', 'Jared', 'Joan', 'Jerry',\n",
    "#         'Jesse', 'Jorge', 'Joanna', 'Joy', 'Jake'\n",
    "#     ],\n",
    "#     'last_name': [\n",
    "#         'Doe', 'Smith', 'Brown', 'Johnson', 'Williams',\n",
    "#         'Jones', 'Garcia', 'Miller', 'Davis', 'Rodriguez',\n",
    "#         'Martinez', 'Hernandez', 'Lopez', 'Gonzalez', 'Wilson',\n",
    "#         'Anderson', 'Thomas', 'Taylor', 'Moore', 'Jackson'\n",
    "#     ],\n",
    "#     'password': [\n",
    "#         'password1', 'password2', 'password3', 'password4', 'password5',\n",
    "#         'password6', 'password7', 'password8', 'password9', 'password10',\n",
    "#         'password11', 'password12', 'password13', 'password14', 'password15',\n",
    "#         'password16', 'password17', 'password18', 'password19', 'password20'\n",
    "#     ],\n",
    "#     'lat': [\n",
    "#         37.7749, 34.0522, 40.7128, 41.8781, 29.7604,\n",
    "#         39.0997, 32.7767, 36.1699, 47.6062, 25.7617,\n",
    "#         42.3601, 37.3382, 39.7392, 38.9072, 37.7749,\n",
    "#         34.0522, 40.7128, 41.8781, 29.7604, 39.0997\n",
    "#     ],\n",
    "#     'lng': [\n",
    "#         -122.4194, -118.2437, -74.0060, -87.6298, -95.3698,\n",
    "#         -94.5786, -96.7970, -115.1398, -122.3321, -80.1918,\n",
    "#         -71.0589, -121.8863, -104.9903, -77.0369, -122.4194,\n",
    "#         -118.2437, -74.0060, -87.6298, -95.3698, -94.5786\n",
    "#     ]\n",
    "# }\n"
   ]
  },
  {
   "cell_type": "code",
   "execution_count": None,
   "id": "c85470b3-3370-48ac-a845-0156a8c64391",
   "metadata": {},
   "outputs": [],
   "source": [
    "def fetch_data_from_db():\n",
    "    conn = get_db_connection()\n",
    "    wishlist_df = pd.read_sql_query('SELECT * FROM wishlist', conn)\n",
    "    ratings_df = pd.read_sql_query('SELECT * FROM ratings', conn)\n",
    "    books_df = pd.read_sql_query('SELECT * FROM books', conn)\n",
    "    conn.close()\n",
    "    return wishlist_df, ratings_df, books_df"
   ]
  },
  {
   "cell_type": "code",
   "execution_count": None,
   "id": "845ff1b8-ccb4-4723-b6c2-3cdb5da403f3",
   "metadata": {},
   "outputs": [],
   "source": [
    "wishlist_df, ratings_df, books_df = fetch_data_from_db()"
   ]
  },
  {
   "cell_type": "code",
   "execution_count": None,
   "id": "9628c9a8-cc3a-4e0a-a886-2b2a152f1b7e",
   "metadata": {},
   "outputs": [],
   "source": [
    "# wishlist_df=pd.DataFrame(wishlist_data)\n",
    "# ratings_df = pd.DataFrame(ratings_data)\n",
    "# books_df = pd.DataFrame(books_data)\n",
    "# users_df = pd.DataFrame(users_data)"
   ]
  },
  {
   "cell_type": "code",
   "execution_count": None,
   "id": "e112ed91-f539-46ab-ad2b-e06f21fd69aa",
   "metadata": {},
   "outputs": [],
   "source": [
    "# ratings_with_titles= pd.merge(ratings_df,books_df, on='book_id')\n",
    "# ratings_with_titles"
   ]
  },
  {
   "cell_type": "code",
   "execution_count": None,
   "id": "f4fe0945-4119-4bdc-b471-323f8e977f89",
   "metadata": {},
   "outputs": [],
   "source": [
    "# wishlist_df.to_csv('wishlist.csv', index=False)\n",
    "# ratings_df.to_csv('ratings.csv', index=False)\n",
    "# books_df.to_csv('books.csv', index=False)\n",
    "# users_df.to_csv('users.csv', index=False)"
   ]
  },
  {
   "cell_type": "code",
   "execution_count": None,
   "id": "ed0b0e6f-e801-426f-b0ce-76f65de8069e",
   "metadata": {},
   "outputs": [],
   "source": [
    "# Filter ratings based on wishlist\n",
    "wishlist_ratings_df = pd.merge(wishlist_df[['user_id', 'book_id']], ratings_df, on=['user_id', 'book_id'], how='inner')\n",
    "\n",
    "# Combine the wishlist ratings with the rest of the ratings\n",
    "combined_df = pd.concat([wishlist_ratings_df, ratings_df]).drop_duplicates().reset_index(drop=True)\n",
    "\n",
    "# Ensure there are no duplicate entries\n",
    "combined_df.drop_duplicates(subset=['user_id', 'book_id'], keep='first', inplace=True)\n",
    "combined_df"
   ]
  },
  {
   "cell_type": "code",
   "execution_count": None,
   "id": "2b178762-bc06-4d7c-ae43-eb22a8523d8a",
   "metadata": {},
   "outputs": [],
   "source": [
    "#Applying Collaborative Filtering\n",
    "from surprise import Dataset, Reader\n",
    "from surprise.model_selection import train_test_split\n",
    "from surprise import SVD, accuracy"
   ]
  },
  {
   "cell_type": "code",
   "execution_count": None,
   "id": "5a96aadc-d06e-40d0-92b7-23f442eb8d1d",
   "metadata": {},
   "outputs": [],
   "source": [
    "# Define the Reader object with the correct rating scale\n",
    "reader = Reader(rating_scale=(1, 5))\n",
    "\n",
    "# Load the combined data into Surprise's Dataset format\n",
    "data = Dataset.load_from_df(combined_df[['user_id', 'book_id', 'rating']], reader)\n",
    "data"
   ]
  },
  {
   "cell_type": "code",
   "execution_count": None,
   "id": "59317b91-dc68-45e7-85f9-60c1f1e90f76",
   "metadata": {},
   "outputs": [],
   "source": [
    "# Split the data into training and test sets\n",
    "trainset, testset = train_test_split(data, test_size=0.25)"
   ]
  },
  {
   "cell_type": "code",
   "execution_count": None,
   "id": "da03f579-85a9-41e6-b0b6-32f42e6b917e",
   "metadata": {},
   "outputs": [],
   "source": [
    "#SVD (Singular Value Decomposition) is a matrix factorization technique commonly used in recommendation systems. \n",
    "# Define the SVD model\n",
    "model = SVD()\n",
    "\n",
    "# Train the model\n",
    "model.fit(trainset)\n",
    "\n",
    "# Test the model\n",
    "predictions = model.test(testset)\n",
    "\n",
    "# Calculate and print the accuracy metrics\n",
    "accuracy.rmse(predictions)\n"
   ]
  },
  {
   "cell_type": "code",
   "execution_count": None,
   "id": "eb0d0c59-05fa-4a0c-bb9a-6a12e04f1715",
   "metadata": {},
   "outputs": [],
   "source": [
    "#Prediction with KNN Model\n",
    "\n",
    "from surprise import KNNBasic\n",
    "\n",
    "sim_options = {\n",
    "    'name': 'cosine',\n",
    "    'user_based': True\n",
    "}\n",
    "\n",
    "model = KNNBasic(sim_options=sim_options)\n",
    "model.fit(trainset)\n",
    "predictions = model.test(testset)\n",
    "print(\"KNN RMSE:\", accuracy.rmse(predictions))\n"
   ]
  },
  {
   "cell_type": "code",
   "execution_count": None,
   "id": "0d5df493-be25-4269-a59d-06b0fc11bd52",
   "metadata": {},
   "outputs": [],
   "source": [
    "from surprise.model_selection import GridSearchCV\n",
    "\n",
    "param_grid = {\n",
    "    'n_factors': [50, 100], #Number of hidden attributes used to understand user preferences and item characteristics.\n",
    "    'n_epochs': [20, 30], #Number of times the model practices (or trains) on the data.\n",
    "    'lr_all': [0.002, 0.005], #It’s like adjusting the speed at which you’re learning from your mistakes. \n",
    "    'reg_all': [0.2, 0.4] #Helps to prevent the model from becoming too complex and fitting the training data too closely.\n",
    "}\n",
    "\n",
    "grid_search = GridSearchCV(SVD, param_grid, measures=['rmse'], cv=3)\n",
    "grid_search.fit(data)\n",
    "print(\"Best parameters using GridSearchCV :\", grid_search.best_params['rmse'])\n",
    "print(\"Best RMSE score GridSearchCV:\", grid_search.best_score['rmse'])\n",
    "\n",
    "# Extract the best model\n",
    "best_model = grid_search.best_estimator['rmse']\n",
    "\n",
    "# Train the best model on the full training set\n",
    "trainset = data.build_full_trainset()\n",
    "best_model.fit(trainset)\n",
    "\n",
    "# Evaluate the best model using the existing test set\n",
    "predictions = best_model.test(testset)\n",
    "print(\"Test set RMSE:\", accuracy.rmse(predictions))\n"
   ]
  },
  {
   "cell_type": "code",
   "execution_count": None,
   "id": "105957f1-1347-49cb-bdcd-f658000f750d",
   "metadata": {},
   "outputs": [],
   "source": [
    "# Define a function to get book recommendations for a specific user\n",
    "def get_book_recommendations(user_id, model, books_df, num_recommendations=5):\n",
    "    # Get the list of all book IDs\n",
    "    all_book_ids = books_df['book_id'].unique()\n",
    "    \n",
    "    # Generate predictions for all books for the given user\n",
    "    predictions = [model.predict(user_id, book_id) for book_id in all_book_ids]\n",
    "    \n",
    "    # Sort predictions by estimated rating\n",
    "    sorted_predictions = sorted(predictions, key=lambda x: x.est, reverse=True)\n",
    "    \n",
    "    # Get top N book IDs\n",
    "    top_predictions = sorted_predictions[:num_recommendations]\n",
    "    \n",
    "    # Extract book IDs and estimated ratings\n",
    "    recommended_book_ids = [pred.iid for pred in top_predictions]\n",
    "    recommended_ratings = [pred.est for pred in top_predictions]\n",
    "    \n",
    "    # Merge with book details\n",
    "    recommended_books = books_df[books_df['book_id'].isin(recommended_book_ids)]\n",
    "    recommended_books = recommended_books.copy()\n",
    "    recommended_books['predicted_rating'] = recommended_ratings\n",
    "    \n",
    "    return recommended_books[['book_id', 'title', 'authors', 'predicted_rating']]\n",
    "\n",
    "user_id = 120\n",
    "recommended_books = get_book_recommendations(user_id, best_model, books_df)\n",
    "print(recommended_books)"
   ]
  },
  {
   "cell_type": "code",
   "execution_count": None,
   "id": "967c8fbd-4ff9-403a-96dd-4e3ac2ffee15",
   "metadata": {},
   "outputs": [],
   "source": [
    "#recommendation for wishlist\n",
    "user_item_matrix = wishlist_df.pivot_table(index='user_id', columns='book_id', aggfunc='size', fill_value=0)\n",
    "user_item_matrix"
   ]
  },
  {
   "cell_type": "code",
   "execution_count": None,
   "id": "cdde9e57-924f-4264-be75-6a13e2be6065",
   "metadata": {},
   "outputs": [],
   "source": [
    "from sklearn.metrics.pairwise import cosine_similarity\n",
    "\n",
    "user_similarity = cosine_similarity(user_item_matrix)\n",
    "user_similarity_df = pd.DataFrame(user_similarity, index=user_item_matrix.index, columns=user_item_matrix.index)\n"
   ]
  },
  {
   "cell_type": "code",
   "execution_count": None,
   "id": "3c4cc07e-6f8e-44fe-bcd3-569ad1878880",
   "metadata": {},
   "outputs": [],
   "source": [
    "def recommend_books_based_on_wishlist(user_id, wishlist_df, ratings_df, books_df, num_recommendations=5):\n",
    "    # Get the list of books in the current user's wishlist\n",
    "    user_wishlist_books = wishlist_df[wishlist_df['user_id'] == user_id]['book_id'].tolist()\n",
    "    \n",
    "    # Find other users who have similar books in their wishlist\n",
    "    similar_users = wishlist_df[wishlist_df['book_id'].isin(user_wishlist_books)]['user_id'].unique()\n",
    "    \n",
    "    if len(similar_users) == 0:\n",
    "        print(f\"No similar users found for user {user_id}.\")\n",
    "        return pd.DataFrame(columns=['book_id', 'title', 'authors'])\n",
    "\n",
    "    # Aggregate the books from these similar users' wishlists, excluding the books already in the target user's wishlist\n",
    "    similar_users_books = wishlist_df[(wishlist_df['user_id'].isin(similar_users)) & (~wishlist_df['book_id'].isin(user_wishlist_books))]\n",
    "\n",
    "    # If no books found in similar users' wishlists, return an empty DataFrame\n",
    "    if similar_users_books.empty:\n",
    "        print(f\"No additional books found in similar users' wishlists for user {user_id}.\")\n",
    "        return pd.DataFrame(columns=['book_id', 'title', 'authors'])\n",
    "    \n",
    "    # Count how often each book appears in the similar users' wishlists\n",
    "    book_recommendations = similar_users_books['book_id'].value_counts().head(num_recommendations)\n",
    "    \n",
    "    # Get the book details for these recommended books\n",
    "    recommended_books_df = books_df[books_df['book_id'].isin(book_recommendations.index)]\n",
    "    \n",
    "    return recommended_books_df\n",
    "\n",
    "# Example usage\n",
    "user_id = 111  # Replace with the actual user_id\n",
    "recommended_books = recommend_books_based_on_wishlist(user_id, wishlist_df, ratings_df, books_df)\n",
    "print(recommended_books)\n"
   ]
  },
  {
   "cell_type": "code",
   "execution_count": None,
   "id": "d05080da-c833-4298-95fe-9ddb09d81b51",
   "metadata": {},
   "outputs": [],
   "source": []
  }
 ],
 "metadata": {
  "kernelspec": {
   "display_name": "Python 3 (ipykernel)",
   "language": "python",
   "name": "python3"
  },
  "language_info": {
   "codemirror_mode": {
    "name": "ipython",
    "version": 3
   },
   "file_extension": ".py",
   "mimetype": "text/x-python",
   "name": "python",
   "nbconvert_exporter": "python",
   "pygments_lexer": "ipython3",
   "version": "3.11.9"
  }
 },
 "nbformat": 4,
 "nbformat_minor": 5
}
